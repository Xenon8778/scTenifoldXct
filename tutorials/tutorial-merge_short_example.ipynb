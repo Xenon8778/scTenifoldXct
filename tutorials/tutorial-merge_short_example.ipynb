{
 "cells": [
  {
   "cell_type": "code",
   "execution_count": 1,
   "id": "0a8a2411",
   "metadata": {},
   "outputs": [],
   "source": [
    "import scanpy as sc\n",
    "\n",
    "import warnings\n",
    "warnings.filterwarnings(\"ignore\")"
   ]
  },
  {
   "cell_type": "code",
   "execution_count": 2,
   "id": "47fc1336",
   "metadata": {},
   "outputs": [],
   "source": [
    "import scTenifoldXct as st"
   ]
  },
  {
   "cell_type": "code",
   "execution_count": 3,
   "id": "4571525c",
   "metadata": {},
   "outputs": [
    {
     "data": {
      "text/plain": [
       "AnnData object with n_obs × n_vars = 199 × 2608\n",
       "    obs: 'n_genes', 'percent_mito', 'n_counts', 'louvain', 'patient_id', 'patient_tumorsection', 'NormalvsTumor', 'patientno', 'PNC', 'PIC', 'ViralvsNonViral', 'ident', 'batch'\n",
       "    var: 'gene_ids', 'n_cells'\n",
       "    obsm: 'X_pca', 'X_umap'\n",
       "    layers: 'log1p', 'raw'"
      ]
     },
     "execution_count": 3,
     "metadata": {},
     "output_type": "execute_result"
    }
   ],
   "source": [
    "# load scRNA-seq data\n",
    "adata = sc.read_h5ad('data/adata_merge_example.h5ad')\n",
    "adata"
   ]
  },
  {
   "cell_type": "code",
   "execution_count": 4,
   "id": "d0f14169",
   "metadata": {},
   "outputs": [
    {
     "data": {
      "text/plain": [
       "((101, 2608), (98, 2608))"
      ]
     },
     "execution_count": 4,
     "metadata": {},
     "output_type": "execute_result"
    }
   ],
   "source": [
    "# Normal vs Tumor samples\n",
    "ada_N = adata[adata.obs['NormalvsTumor'] == 'N', :].copy()\n",
    "ada_T = adata[adata.obs['NormalvsTumor'] == 'T', :].copy()\n",
    "ada_N.shape, ada_T.shape"
   ]
  },
  {
   "cell_type": "code",
   "execution_count": 6,
   "id": "beb5a4aa-d8c9-49d5-8f22-0c94e07289be",
   "metadata": {
    "jupyter": {
     "outputs_hidden": true
    },
    "scrolled": false,
    "tags": []
   },
   "outputs": [
    {
     "name": "stdout",
     "output_type": "stream",
     "text": [
      "(cell, feature): (65, 2608)\n",
      "(cell, feature): (36, 2608)\n",
      "selected 64 LR pairs\n",
      "load GRN B cells\n",
      "load GRN Fibroblasts\n",
      "build correspondence and initiate a trainer\n",
      "scTenifoldXct init completed\n",
      "\n"
     ]
    }
   ],
   "source": [
    "# build a scTenifoldXct object\n",
    "xct_N = st.scTenifoldXct(data = ada_N, \n",
    "                        source_celltype = 'B cells', \n",
    "                        target_celltype = 'Fibroblasts',\n",
    "                        obs_label = \"ident\",\n",
    "                        rebuild_GRN = False, # timer\n",
    "                        GRN_file_dir = 'Net_example/Net_B2Fib_N/',  \n",
    "                        verbose = True,\n",
    "                        n_cpus = -1)"
   ]
  },
  {
   "cell_type": "code",
   "execution_count": 7,
   "id": "8e99d2b5",
   "metadata": {},
   "outputs": [
    {
     "name": "stdout",
     "output_type": "stream",
     "text": [
      "(cell, feature): (39, 2608)\n",
      "(cell, feature): (59, 2608)\n",
      "selected 92 LR pairs\n",
      "load GRN B cells\n",
      "load GRN Fibroblasts\n",
      "build correspondence and initiate a trainer\n",
      "scTenifoldXct init completed\n",
      "\n"
     ]
    }
   ],
   "source": [
    "xct_T = st.scTenifoldXct(data = ada_T, \n",
    "                        source_celltype = 'B cells', \n",
    "                        target_celltype = 'Fibroblasts',\n",
    "                        obs_label = \"ident\",\n",
    "                        rebuild_GRN = False, \n",
    "                        GRN_file_dir = 'Net_example/Net_B2Fib_T/',  \n",
    "                        verbose = True,\n",
    "                        n_cpus = 8)"
   ]
  },
  {
   "cell_type": "code",
   "execution_count": 8,
   "id": "92b97a8a",
   "metadata": {},
   "outputs": [
    {
     "name": "stdout",
     "output_type": "stream",
     "text": [
      "merge samples and build correspondence\n",
      "merge_scTenifoldXct init completed\n",
      "\n"
     ]
    }
   ],
   "source": [
    "# merge two scTenifoldXct objects\n",
    "XCTs = st.merge_scTenifoldXct(xct_T, xct_N)"
   ]
  },
  {
   "cell_type": "code",
   "execution_count": null,
   "id": "524baf29",
   "metadata": {},
   "outputs": [],
   "source": [
    "# # show model architecture\n",
    "# XCTs.trainer.arch()"
   ]
  },
  {
   "cell_type": "code",
   "execution_count": null,
   "id": "02f70c81",
   "metadata": {},
   "outputs": [],
   "source": [
    "# load model if trained\n",
    "# XCTs.trainer.load_model_states('model_mergeXct')"
   ]
  },
  {
   "cell_type": "code",
   "execution_count": 9,
   "id": "3b060efa",
   "metadata": {
    "scrolled": true
   },
   "outputs": [
    {
     "name": "stderr",
     "output_type": "stream",
     "text": [
      "training...: 100%|██████████| 3000/3000 [27:13<00:00,  1.84it/s]\n"
     ]
    },
    {
     "data": {
      "text/plain": [
       "(10432, 3)"
      ]
     },
     "execution_count": 9,
     "metadata": {},
     "output_type": "execute_result"
    }
   ],
   "source": [
    "# get embeddings\n",
    "emb = XCTs.get_embeds(train = True)\n",
    "emb.shape"
   ]
  },
  {
   "cell_type": "code",
   "execution_count": null,
   "id": "876af002",
   "metadata": {},
   "outputs": [],
   "source": [
    "# # save model\n",
    "# XCTs.trainer.save_model_states('model_mergeXct_B2Fib')"
   ]
  },
  {
   "cell_type": "code",
   "execution_count": null,
   "id": "ab770824",
   "metadata": {},
   "outputs": [],
   "source": [
    "# # show loss\n",
    "# XCTs.plot_losses()"
   ]
  },
  {
   "cell_type": "code",
   "execution_count": 10,
   "id": "51d74be6-580d-454b-aa88-485b93f63a63",
   "metadata": {
    "scrolled": false
   },
   "outputs": [
    {
     "name": "stdout",
     "output_type": "stream",
     "text": [
      "computing pair-wise euclidean distances...\n",
      "computing pair-wise euclidean distances...\n",
      "merged pair-wise distances\n",
      "\n",
      "Total enriched: 2 / 6801664\n"
     ]
    },
    {
     "data": {
      "text/html": [
       "<div>\n",
       "<style scoped>\n",
       "    .dataframe tbody tr th:only-of-type {\n",
       "        vertical-align: middle;\n",
       "    }\n",
       "\n",
       "    .dataframe tbody tr th {\n",
       "        vertical-align: top;\n",
       "    }\n",
       "\n",
       "    .dataframe thead th {\n",
       "        text-align: right;\n",
       "    }\n",
       "</style>\n",
       "<table border=\"1\" class=\"dataframe\">\n",
       "  <thead>\n",
       "    <tr style=\"text-align: right;\">\n",
       "      <th></th>\n",
       "      <th>ligand</th>\n",
       "      <th>receptor</th>\n",
       "      <th>dist</th>\n",
       "      <th>correspondence</th>\n",
       "      <th>dist</th>\n",
       "      <th>correspondence</th>\n",
       "      <th>diff2</th>\n",
       "      <th>FC</th>\n",
       "      <th>p_val</th>\n",
       "      <th>q_val</th>\n",
       "      <th>enriched_rank</th>\n",
       "    </tr>\n",
       "  </thead>\n",
       "  <tbody>\n",
       "    <tr>\n",
       "      <th>CCNA2_ITGA5</th>\n",
       "      <td>CCNA2</td>\n",
       "      <td>ITGA5</td>\n",
       "      <td>0.011020</td>\n",
       "      <td>0.897987</td>\n",
       "      <td>0.021239</td>\n",
       "      <td>0.0</td>\n",
       "      <td>0.000104</td>\n",
       "      <td>23.019939</td>\n",
       "      <td>0.000002</td>\n",
       "      <td>0.001746</td>\n",
       "      <td>1</td>\n",
       "    </tr>\n",
       "    <tr>\n",
       "      <th>CCNA2_ITGB5</th>\n",
       "      <td>CCNA2</td>\n",
       "      <td>ITGB5</td>\n",
       "      <td>0.010038</td>\n",
       "      <td>1.471727</td>\n",
       "      <td>0.018740</td>\n",
       "      <td>0.0</td>\n",
       "      <td>0.000076</td>\n",
       "      <td>16.690244</td>\n",
       "      <td>0.000044</td>\n",
       "      <td>0.014283</td>\n",
       "      <td>2</td>\n",
       "    </tr>\n",
       "  </tbody>\n",
       "</table>\n",
       "</div>"
      ],
      "text/plain": [
       "            ligand receptor      dist  correspondence      dist  \\\n",
       "CCNA2_ITGA5  CCNA2    ITGA5  0.011020        0.897987  0.021239   \n",
       "CCNA2_ITGB5  CCNA2    ITGB5  0.010038        1.471727  0.018740   \n",
       "\n",
       "             correspondence     diff2         FC     p_val     q_val  \\\n",
       "CCNA2_ITGA5             0.0  0.000104  23.019939  0.000002  0.001746   \n",
       "CCNA2_ITGB5             0.0  0.000076  16.690244  0.000044  0.014283   \n",
       "\n",
       "             enriched_rank  \n",
       "CCNA2_ITGA5              1  \n",
       "CCNA2_ITGB5              2  "
      ]
     },
     "execution_count": 10,
     "metadata": {},
     "output_type": "execute_result"
    }
   ],
   "source": [
    "# get significant L-R pairs\n",
    "XCTs.nn_aligned_diff(emb) \n",
    "xcts_pairs_diff = XCTs.chi2_diff_test()\n",
    "xcts_pairs_diff"
   ]
  },
  {
   "cell_type": "code",
   "execution_count": null,
   "id": "d2b6829c-9df4-4dca-a2d8-bd6cf18ed1ae",
   "metadata": {
    "scrolled": false,
    "tags": []
   },
   "outputs": [],
   "source": []
  }
 ],
 "metadata": {
  "kernelspec": {
   "display_name": "Python 3 (ipykernel)",
   "language": "python",
   "name": "python3"
  },
  "language_info": {
   "codemirror_mode": {
    "name": "ipython",
    "version": 3
   },
   "file_extension": ".py",
   "mimetype": "text/x-python",
   "name": "python",
   "nbconvert_exporter": "python",
   "pygments_lexer": "ipython3",
   "version": "3.9.13"
  }
 },
 "nbformat": 4,
 "nbformat_minor": 5
}
